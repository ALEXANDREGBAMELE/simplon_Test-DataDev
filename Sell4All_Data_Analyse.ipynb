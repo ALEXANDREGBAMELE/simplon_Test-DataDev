{
 "cells": [
  {
   "cell_type": "code",
   "execution_count": null,
   "id": "ea778a07",
   "metadata": {},
   "outputs": [],
   "source": [
    "#Importqtion des librairies necessaire du projet"
   ]
  },
  {
   "cell_type": "code",
   "execution_count": 3,
   "id": "3d16aeec",
   "metadata": {},
   "outputs": [],
   "source": [
    "import pandas as pd"
   ]
  },
  {
   "cell_type": "code",
   "execution_count": 21,
   "id": "09228abe",
   "metadata": {},
   "outputs": [],
   "source": [
    "import matplotlib.pyplot as plt"
   ]
  },
  {
   "cell_type": "code",
   "execution_count": null,
   "id": "cfc20807",
   "metadata": {},
   "outputs": [],
   "source": [
    "# Lire les données"
   ]
  },
  {
   "cell_type": "code",
   "execution_count": 5,
   "id": "a7d03ea6",
   "metadata": {},
   "outputs": [
    {
     "name": "stdout",
     "output_type": "stream",
     "text": [
      "                 Name    Phone Number                            Email  \\\n",
      "0          Aaron Cote        966-7625                 elit@hotmail.org   \n",
      "1     Angelica Lawson        232-3051            diam.proin@google.org   \n",
      "2       Louis Gilbert  1-997-733-0134      lorem.fringilla@hotmail.org   \n",
      "3        Basia Finley  1-987-322-7148      tristique.aliquet@icloud.co   \n",
      "4         Rhona Sears        387-7682  iaculis.odio.nam@protonmail.org   \n",
      "..                ...             ...                              ...   \n",
      "500    Abraham Walker        835-6185        nunc.sed.orci@outlook.net   \n",
      "501      Drake Carney        891-0713    dignissim.pharetra@icloud.org   \n",
      "502      Hadley Sykes  1-865-267-6254                luctus@icloud.com   \n",
      "503      Dean Hensley  1-776-366-7784                      dui@aol.com   \n",
      "504  Margaret Leblanc        522-8552               nec.enim@yahoo.org   \n",
      "\n",
      "                           Address        Country Postal code  \\\n",
      "0            699-5837 Risus Street         Norway        4126   \n",
      "1           481-8428 Magna. Street       Pakistan      518885   \n",
      "2           Ap #192-2082 Enim. Ave       Colombia      575444   \n",
      "3                 608-2732 Nec Rd.   South Africa   5973-5765   \n",
      "4                      8763 In Rd.         France       37476   \n",
      "..                             ...            ...         ...   \n",
      "500            Ap #258-8540 A, St.   South Africa   3181-4474   \n",
      "501             304-4217 Ac Street         France       54615   \n",
      "502    P.O. Box 851, 819 Pede. Av.           Peru       16373   \n",
      "503  P.O. Box 896, 2956 Risus. Ave          China      746013   \n",
      "504            437-1106 Nec Street  United States       74253   \n",
      "\n",
      "    Last date of connection Last time of connection  Age Gender  \\\n",
      "0               Apr 5, 2021                 4:39 AM   71    Man   \n",
      "1              Oct 10, 2021                12:36 AM   37  Women   \n",
      "2               Jul 2, 2022                 3:37 AM   24  Women   \n",
      "3              Feb 19, 2022                 2:34 AM   37  Women   \n",
      "4              Mar 31, 2022                 6:28 AM   42  Women   \n",
      "..                      ...                     ...  ...    ...   \n",
      "500            Jan 31, 2023                 1:46 PM   28  Women   \n",
      "501            Jun 11, 2022                10:06 AM   46  Women   \n",
      "502            Jun 13, 2022                 6:49 PM   43  Women   \n",
      "503            Aug 27, 2021                 6:02 AM   20  Women   \n",
      "504             Feb 2, 2023                 4:56 AM   72  Women   \n",
      "\n",
      "     Customer spendings  \n",
      "0                   356  \n",
      "1                   173  \n",
      "2                   105  \n",
      "3                    28  \n",
      "4                    13  \n",
      "..                  ...  \n",
      "500                 182  \n",
      "501                  25  \n",
      "502                  42  \n",
      "503                 511  \n",
      "504                 518  \n",
      "\n",
      "[505 rows x 11 columns]\n"
     ]
    }
   ],
   "source": [
    "data = pd.read_csv('dataset-sell4all-maroc.csv')\n",
    "print(data)"
   ]
  },
  {
   "cell_type": "code",
   "execution_count": 16,
   "id": "2bb0a7ad",
   "metadata": {},
   "outputs": [
    {
     "data": {
      "text/plain": [
       "Index(['Name', 'Phone Number', 'Email', 'Address', 'Country', 'Postal code',\n",
       "       'Last date of connection', 'Last time of connection', 'Age', 'Gender',\n",
       "       'Customer spendings'],\n",
       "      dtype='object')"
      ]
     },
     "execution_count": 16,
     "metadata": {},
     "output_type": "execute_result"
    }
   ],
   "source": [
    "data.shape\n",
    "data.columns"
   ]
  },
  {
   "cell_type": "code",
   "execution_count": null,
   "id": "c54d08f4",
   "metadata": {},
   "outputs": [],
   "source": [
    "# Afficher les 5 premières lignes"
   ]
  },
  {
   "cell_type": "code",
   "execution_count": 6,
   "id": "74db1dea",
   "metadata": {},
   "outputs": [
    {
     "name": "stdout",
     "output_type": "stream",
     "text": [
      "              Name    Phone Number                            Email  \\\n",
      "0       Aaron Cote        966-7625                 elit@hotmail.org   \n",
      "1  Angelica Lawson        232-3051            diam.proin@google.org   \n",
      "2    Louis Gilbert  1-997-733-0134      lorem.fringilla@hotmail.org   \n",
      "3     Basia Finley  1-987-322-7148      tristique.aliquet@icloud.co   \n",
      "4      Rhona Sears        387-7682  iaculis.odio.nam@protonmail.org   \n",
      "\n",
      "                  Address       Country Postal code Last date of connection  \\\n",
      "0   699-5837 Risus Street        Norway        4126             Apr 5, 2021   \n",
      "1  481-8428 Magna. Street      Pakistan      518885            Oct 10, 2021   \n",
      "2  Ap #192-2082 Enim. Ave      Colombia      575444             Jul 2, 2022   \n",
      "3        608-2732 Nec Rd.  South Africa   5973-5765            Feb 19, 2022   \n",
      "4             8763 In Rd.        France       37476            Mar 31, 2022   \n",
      "\n",
      "  Last time of connection  Age Gender  Customer spendings  \n",
      "0                 4:39 AM   71    Man                 356  \n",
      "1                12:36 AM   37  Women                 173  \n",
      "2                 3:37 AM   24  Women                 105  \n",
      "3                 2:34 AM   37  Women                  28  \n",
      "4                 6:28 AM   42  Women                  13  \n"
     ]
    }
   ],
   "source": [
    "print(data.head())"
   ]
  },
  {
   "cell_type": "code",
   "execution_count": null,
   "id": "fe945647",
   "metadata": {},
   "outputs": [],
   "source": [
    "# Afficher le résumé technique"
   ]
  },
  {
   "cell_type": "code",
   "execution_count": 7,
   "id": "40c4015d",
   "metadata": {},
   "outputs": [
    {
     "name": "stdout",
     "output_type": "stream",
     "text": [
      "<class 'pandas.core.frame.DataFrame'>\n",
      "RangeIndex: 505 entries, 0 to 504\n",
      "Data columns (total 11 columns):\n",
      " #   Column                   Non-Null Count  Dtype \n",
      "---  ------                   --------------  ----- \n",
      " 0   Name                     505 non-null    object\n",
      " 1   Phone Number             505 non-null    object\n",
      " 2   Email                    505 non-null    object\n",
      " 3   Address                  505 non-null    object\n",
      " 4   Country                  505 non-null    object\n",
      " 5   Postal code              505 non-null    object\n",
      " 6   Last date of connection  505 non-null    object\n",
      " 7   Last time of connection  505 non-null    object\n",
      " 8   Age                      505 non-null    int64 \n",
      " 9   Gender                   505 non-null    object\n",
      " 10  Customer spendings       505 non-null    int64 \n",
      "dtypes: int64(2), object(9)\n",
      "memory usage: 43.5+ KB\n",
      "None\n"
     ]
    }
   ],
   "source": [
    "summary = data.info()\n",
    "print(summary)"
   ]
  },
  {
   "cell_type": "code",
   "execution_count": null,
   "id": "ff58bc0c",
   "metadata": {},
   "outputs": [],
   "source": [
    "#Calculer la médiane et la moyenne des colonnes \"Age\" et \"Customer spendings\" :"
   ]
  },
  {
   "cell_type": "code",
   "execution_count": 11,
   "id": "f34a8e7a",
   "metadata": {},
   "outputs": [
    {
     "name": "stdout",
     "output_type": "stream",
     "text": [
      "Médiane de l'âge : 46.0\n",
      "Moyenne de l'âge : 46.08316831683168\n",
      "Médiane des dépenses des clients : 307.0\n",
      "Moyenne des dépenses des clients : 311.16831683168317\n"
     ]
    }
   ],
   "source": [
    "median_age = data['Age'].median()\n",
    "mean_age = data['Age'].mean()\n",
    "\n",
    "median_spendings = data['Customer spendings'].median()\n",
    "mean_spendings = data['Customer spendings'].mean()\n",
    "\n",
    "print(\"Médiane de l'âge :\", median_age)\n",
    "print(\"Moyenne de l'âge :\", mean_age)\n",
    "print(\"Médiane des dépenses des clients :\", median_spendings)\n",
    "print(\"Moyenne des dépenses des clients :\", mean_spendings)\n"
   ]
  },
  {
   "cell_type": "code",
   "execution_count": null,
   "id": "40c6a00a",
   "metadata": {},
   "outputs": [],
   "source": [
    "#Pour la question bonus, calculez la médiane d'âge pour chaque pays :"
   ]
  },
  {
   "cell_type": "code",
   "execution_count": 12,
   "id": "c5c59a4c",
   "metadata": {},
   "outputs": [
    {
     "name": "stdout",
     "output_type": "stream",
     "text": [
      "Médiane d'âge par pays :\n",
      " Country\n",
      "Australia             44.0\n",
      "Austria               43.0\n",
      "Belgium               39.0\n",
      "Brazil                49.5\n",
      "Canada                46.0\n",
      "Chile                 46.0\n",
      "China                 35.0\n",
      "Colombia              29.0\n",
      "Costa Rica            48.0\n",
      "France                56.5\n",
      "Germany               53.0\n",
      "India                 45.5\n",
      "Indonesia             41.5\n",
      "Ireland               49.0\n",
      "Italy                 41.0\n",
      "Mexico                47.0\n",
      "Netherlands           48.0\n",
      "New Zealand           38.0\n",
      "Nigeria               37.0\n",
      "Norway                54.0\n",
      "Pakistan              44.0\n",
      "Peru                  38.0\n",
      "Philippines           51.0\n",
      "Poland                49.5\n",
      "Russian Federation    48.0\n",
      "Singapore             41.5\n",
      "South Africa          43.0\n",
      "South Korea           49.5\n",
      "Spain                 54.5\n",
      "Sweden                40.0\n",
      "Turkey                60.0\n",
      "Ukraine               46.0\n",
      "United Kingdom        48.5\n",
      "United States         48.5\n",
      "Vietnam               48.0\n",
      "Name: Age, dtype: float64\n"
     ]
    }
   ],
   "source": [
    "median_age_per_country = data.groupby('Country')['Age'].median()\n",
    "print(\"Médiane d'âge par pays :\\n\", median_age_per_country)"
   ]
  },
  {
   "cell_type": "code",
   "execution_count": null,
   "id": "fbfccc95",
   "metadata": {},
   "outputs": [],
   "source": [
    "#Créez une visualisation sous forme de graphique à barres montrant les dépenses des clients par pays :"
   ]
  },
  {
   "cell_type": "code",
   "execution_count": 22,
   "id": "d35c46f3",
   "metadata": {},
   "outputs": [
    {
     "data": {
      "image/png": "[encoded data removed]",
      "text/plain": [
       "<Figure size 640x480 with 1 Axes>"
      ]
     },
     "metadata": {},
     "output_type": "display_data"
    }
   ],
   "source": [
    "spendings_by_country = data.groupby('Country')['Customer spendings'].sum()\n",
    "spendings_by_country.plot(kind='bar')\n",
    "plt.title(\"Dépenses des clients par pays\")\n",
    "plt.ylabel(\"Dépenses\")\n",
    "plt.xlabel(\"Pays\")\n",
    "plt.show()"
   ]
  },
  {
   "cell_type": "code",
   "execution_count": null,
   "id": "6f93641b",
   "metadata": {},
   "outputs": [],
   "source": [
    "#Nettoyez les données en supprimant les lignes avec moins de 10 € de dépenses par client :"
   ]
  },
  {
   "cell_type": "code",
   "execution_count": 18,
   "id": "bf40f54c",
   "metadata": {},
   "outputs": [],
   "source": [
    "data_cleaned = data[data['Customer spendings'] >= 10]"
   ]
  },
  {
   "cell_type": "code",
   "execution_count": 19,
   "id": "6f6ee34e",
   "metadata": {},
   "outputs": [],
   "source": [
    "#Nettoyez les doublons :"
   ]
  },
  {
   "cell_type": "code",
   "execution_count": 20,
   "id": "176373a4",
   "metadata": {},
   "outputs": [],
   "source": [
    "data_cleaned = data_cleaned.drop_duplicates()"
   ]
  },
  {
   "cell_type": "code",
   "execution_count": null,
   "id": "3051b161",
   "metadata": {},
   "outputs": [],
   "source": [
    "#Recuperons les colones necessaire pour en faire un nouveau table de donnees"
   ]
  },
  {
   "cell_type": "code",
   "execution_count": 23,
   "id": "f835ebcf",
   "metadata": {},
   "outputs": [],
   "source": [
    "columns_to_keep = ['Country', 'Age', 'Gender', 'Customer spendings']\n",
    "data_cleaned = data_cleaned[columns_to_keep]\n",
    "\n",
    "data_cleaned.to_csv('cleaned_dataset.csv', index=False)"
   ]
  }
 ],
 "metadata": {
  "kernelspec": {
   "display_name": "Python 3 (ipykernel)",
   "language": "python",
   "name": "python3"
  },
  "language_info": {
   "codemirror_mode": {
    "name": "ipython",
    "version": 3
   },
   "file_extension": ".py",
   "mimetype": "text/x-python",
   "name": "python",
   "nbconvert_exporter": "python",
   "pygments_lexer": "ipython3",
   "version": "3.11.4"
  }
 },
 "nbformat": 4,
 "nbformat_minor": 5
}
